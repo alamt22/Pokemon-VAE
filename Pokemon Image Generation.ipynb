{
 "cells": [
  {
   "cell_type": "code",
   "execution_count": 1,
   "metadata": {},
   "outputs": [],
   "source": [
    "import numpy as np\n",
    "import torch\n",
    "import torch.nn as nn\n",
    "import torch.nn.functional as F\n",
    "from torch.autograd import Variable\n",
    "import torch.utils.data as tdata\n",
    "import torchvision\n",
    "from torchvision import transforms\n",
    "from torchvision.utils import save_image\n",
    "import matplotlib.pyplot as plt\n",
    "from PIL import Image"
   ]
  },
  {
   "cell_type": "code",
   "execution_count": 4,
   "metadata": {},
   "outputs": [
    {
     "name": "stdout",
     "output_type": "stream",
     "text": [
      "torch.Size([3, 784])\n"
     ]
    }
   ],
   "source": [
    "DATA_PATH = \"./pokemon-images/pokemon-images\"\n",
    "\n",
    "BATCH_SIZE = 10\n",
    "\n",
    "TRANSFORMS = transforms.Compose([\n",
    "                                 transforms.Resize(28),\n",
    "                                 transforms.CenterCrop(28),\n",
    "                                 transforms.ToTensor()\n",
    "])\n",
    "\n",
    "data = torchvision.datasets.ImageFolder(root=DATA_PATH, transform=TRANSFORMS)\n",
    "firstDim = data[0][0].size(0)\n",
    "print(data[0][0].view(firstDim, -1).shape)"
   ]
  },
  {
   "cell_type": "code",
   "execution_count": 41,
   "metadata": {},
   "outputs": [],
   "source": [
    "class VAE(nn.Module):\n",
    "  def __init__(self):\n",
    "    super(VAE, self).__init__()\n",
    "\n",
    "    self.fc1 = nn.Linear(2352, 400)\n",
    "    self.relu = nn.ReLU()\n",
    "    self.fc21 = nn.Linear(400, 20)\n",
    "    self.fc22 = nn.Linear(400, 20) \n",
    "\n",
    "    self.fc3 = nn.Linear(20, 400)\n",
    "    self.fc4 = nn.Linear(400, 2352)\n",
    "    self.sigmoid = nn.Sigmoid()\n",
    "  \n",
    "  def reparameterize(self, mu: Variable, logvar):\n",
    "        if self.training: \n",
    "            std = logvar.mul(0.5).exp_()  # type: Variable\n",
    "            eps = Variable(std.data.new(std.size()).normal_())\n",
    "            return eps.mul(std).add_(mu)\n",
    "        else:\n",
    "            return mu\n",
    "  \n",
    "  def encode(self, x):\n",
    "    h1 = self.relu(self.fc1(x))  \n",
    "    return self.fc21(h1), self.fc22(h1)\n",
    " \n",
    "  def decode(self, z):\n",
    "    h3 = self.relu(self.fc3(z))\n",
    "    return self.sigmoid(self.fc4(h3))\n",
    "\n",
    "  def forward(self, x):\n",
    "    mu, logvar = self.encode(x.view(-1, 3*28*28))\n",
    "    z = self.reparameterize(mu, logvar)\n",
    "    return self.decode(z), mu, logvar"
   ]
  },
  {
   "cell_type": "code",
   "execution_count": 42,
   "metadata": {
    "scrolled": true
   },
   "outputs": [
    {
     "data": {
      "text/plain": [
       "VAE(\n",
       "  (fc1): Linear(in_features=2352, out_features=400, bias=True)\n",
       "  (relu): ReLU()\n",
       "  (fc21): Linear(in_features=400, out_features=20, bias=True)\n",
       "  (fc22): Linear(in_features=400, out_features=20, bias=True)\n",
       "  (fc3): Linear(in_features=20, out_features=400, bias=True)\n",
       "  (fc4): Linear(in_features=400, out_features=2352, bias=True)\n",
       "  (sigmoid): Sigmoid()\n",
       ")"
      ]
     },
     "execution_count": 42,
     "metadata": {},
     "output_type": "execute_result"
    }
   ],
   "source": [
    "model = VAE()\n",
    "state = torch.load('modelPickle')\n",
    "model.load_state_dict(state)\n",
    "model.eval()"
   ]
  },
  {
   "cell_type": "code",
   "execution_count": 61,
   "metadata": {},
   "outputs": [
    {
     "data": {
      "text/plain": [
       "<matplotlib.image.AxesImage at 0x201c00dddc0>"
      ]
     },
     "execution_count": 61,
     "metadata": {},
     "output_type": "execute_result"
    },
    {
     "data": {
      "image/png": "[encoded data removed]",
      "text/plain": [
       "<Figure size 432x288 with 1 Axes>"
      ]
     },
     "metadata": {
      "needs_background": "light"
     },
     "output_type": "display_data"
    }
   ],
   "source": [
    "randomS = torch.from_numpy(np.random.normal(0,2,size=(1,20))).float()\n",
    "img = model.decode(randomS).view(3, 28, 28)\n",
    "plt.imshow(img.T.detach().numpy())"
   ]
  },
  {
   "cell_type": "code",
   "execution_count": null,
   "metadata": {},
   "outputs": [],
   "source": []
  }
 ],
 "metadata": {
  "kernelspec": {
   "display_name": "Python 3",
   "language": "python",
   "name": "python3"
  },
  "language_info": {
   "codemirror_mode": {
    "name": "ipython",
    "version": 3
   },
   "file_extension": ".py",
   "mimetype": "text/x-python",
   "name": "python",
   "nbconvert_exporter": "python",
   "pygments_lexer": "ipython3",
   "version": "3.8.0"
  }
 },
 "nbformat": 4,
 "nbformat_minor": 4
}
